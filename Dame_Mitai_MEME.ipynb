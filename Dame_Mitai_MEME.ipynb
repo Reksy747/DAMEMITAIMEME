{
  "nbformat": 4,
  "nbformat_minor": 0,
  "metadata": {
    "colab": {
      "name": "Dame Mitai MEME.ipynb",
      "provenance": [],
      "authorship_tag": "ABX9TyPoyf+697gly3L1e/D4Uqxw",
      "include_colab_link": true
    },
    "kernelspec": {
      "name": "python3",
      "display_name": "Python 3"
    }
  },
  "cells": [
    {
      "cell_type": "markdown",
      "metadata": {
        "id": "view-in-github",
        "colab_type": "text"
      },
      "source": [
        "<a href=\"https://colab.research.google.com/github/Reksy747/DameMitaiMeme/blob/master/Dame_Mitai_MEME.ipynb\" target=\"_parent\"><img src=\"https://colab.research.google.com/assets/colab-badge.svg\" alt=\"Open In Colab\"/></a>"
      ]
    },
    {
      "cell_type": "markdown",
      "metadata": {
        "id": "LR57OHOR5X7w",
        "colab_type": "text"
      },
      "source": [
        "# **Dame Mitai MEME**\n",
        "\n",
        "Demo for paper \"First Order Motion Model for Image Animation\"\n",
        "Original Code:\n",
        "https://github.com/AliaksandrSiarohin/first-order-model\n",
        "https://colab.research.google.com/github/AliaksandrSiarohin/first-order-model/blob/master/demo.ipynb"
      ]
    },
    {
      "cell_type": "markdown",
      "metadata": {
        "id": "Z5tH9Nnb-JyS",
        "colab_type": "text"
      },
      "source": [
        "**BUAT FOLDER 'first-order-motion-model' di google drive mu\n",
        "dan upload video dan gambar yang akan di buat deepfake ke folder 'first-order-motion-model' yang telah di buat tadi**"
      ]
    },
    {
      "cell_type": "markdown",
      "metadata": {
        "id": "0PMxoWkU-y4Q",
        "colab_type": "text"
      },
      "source": [
        "**Video source untuk deepfake DAME MITAI :** https://anonfiles.com/Pb2b7dJfoe/dameyo_mp4"
      ]
    },
    {
      "cell_type": "markdown",
      "metadata": {
        "id": "M4M368rM5zf7",
        "colab_type": "text"
      },
      "source": [
        "**Tentukan nama file gambar dan driving video (sesuaikan dengan video yang anda upload ke gdrive di folder 'first-order-motion-model')**"
      ]
    },
    {
      "cell_type": "code",
      "metadata": {
        "id": "dylqTMoJ52eb",
        "colab_type": "code",
        "colab": {}
      },
      "source": [
        "DRIVING_VIDEO = \"dameyo.mp4\"\n",
        "GAMBAR_TARGET = \"target.png\"\n",
        "OUTPUT = \"DameMitai_MEME.mp4\""
      ],
      "execution_count": null,
      "outputs": []
    },
    {
      "cell_type": "markdown",
      "metadata": {
        "id": "fdy-dJgF6EWk",
        "colab_type": "text"
      },
      "source": [
        "**CLONE REPO DULS**"
      ]
    },
    {
      "cell_type": "code",
      "metadata": {
        "id": "renik2IH6Q9y",
        "colab_type": "code",
        "colab": {
          "base_uri": "https://localhost:8080/",
          "height": 105
        },
        "outputId": "6bce909f-460d-41d4-a9d4-d0d21269d2c3"
      },
      "source": [
        "!git clone https://github.com/AliaksandrSiarohin/first-order-model"
      ],
      "execution_count": null,
      "outputs": [
        {
          "output_type": "stream",
          "text": [
            "Cloning into 'first-order-model'...\n",
            "remote: Enumerating objects: 236, done.\u001b[K\n",
            "remote: Total 236 (delta 0), reused 0 (delta 0), pack-reused 236\u001b[K\n",
            "Receiving objects: 100% (236/236), 71.46 MiB | 30.30 MiB/s, done.\n",
            "Resolving deltas: 100% (117/117), done.\n"
          ],
          "name": "stdout"
        }
      ]
    },
    {
      "cell_type": "code",
      "metadata": {
        "id": "exwfL1Mc6XCj",
        "colab_type": "code",
        "colab": {}
      },
      "source": [
        "cd /content/first-order-model"
      ],
      "execution_count": null,
      "outputs": []
    },
    {
      "cell_type": "markdown",
      "metadata": {
        "id": "Pt5N_Wva_b15",
        "colab_type": "text"
      },
      "source": [
        "**COPY DATA vox-adv-cpk.pth.tar dan vox-cpk.pth.tar ke folder 'first-order-motion-model' yang telah di buat tadi\n",
        "filenya ada disini :** https://drive.google.com/drive/folders/1kZ1gCnpfU0BnpdU47pLM_TQ6RypDDqgw"
      ]
    },
    {
      "cell_type": "markdown",
      "metadata": {
        "id": "_6PkBBNa6bkg",
        "colab_type": "text"
      },
      "source": [
        "**Mount your Google drive folder on Colab**"
      ]
    },
    {
      "cell_type": "code",
      "metadata": {
        "id": "imzwaovJ6hN-",
        "colab_type": "code",
        "colab": {}
      },
      "source": [
        "from google.colab import drive\n",
        "drive.mount('/content/gdrive')"
      ],
      "execution_count": null,
      "outputs": []
    },
    {
      "cell_type": "markdown",
      "metadata": {
        "id": "2AEl76H76sLd",
        "colab_type": "text"
      },
      "source": [
        "**Load driving video and source image**"
      ]
    },
    {
      "cell_type": "code",
      "metadata": {
        "id": "yd6h0o0w6xKt",
        "colab_type": "code",
        "colab": {}
      },
      "source": [
        "import imageio\n",
        "import numpy as np\n",
        "import matplotlib.pyplot as plt\n",
        "import matplotlib.animation as animation\n",
        "from skimage.transform import resize\n",
        "from IPython.display import HTML\n",
        "import warnings\n",
        "warnings.filterwarnings(\"ignore\")\n",
        "\n",
        "source_image = imageio.imread('/content/gdrive/My Drive/first-order-motion-model/{}'.format(GAMBAR_TARGET))\n",
        "driving_video = imageio.mimread('/content/gdrive/My Drive/first-order-motion-model/{}'.format(DRIVING_VIDEO), memtest=False)\n",
        "\n",
        "\n",
        "#Resize image and video to 256x256\n",
        "\n",
        "source_image = resize(source_image, (256, 256))[..., :3]\n",
        "driving_video = [resize(frame, (256, 256))[..., :3] for frame in driving_video]\n",
        "\n",
        "def display(source, driving, generated=None):\n",
        "    fig = plt.figure(figsize=(8 + 4 * (generated is not None), 6))\n",
        "\n",
        "    ims = []\n",
        "    for i in range(len(driving)):\n",
        "        cols = [source]\n",
        "        cols.append(driving[i])\n",
        "        if generated is not None:\n",
        "            cols.append(generated[i])\n",
        "        im = plt.imshow(np.concatenate(cols, axis=1), animated=True)\n",
        "        plt.axis('off')\n",
        "        ims.append([im])\n",
        "\n",
        "    ani = animation.ArtistAnimation(fig, ims, interval=50, repeat_delay=1000)\n",
        "    plt.close()\n",
        "    return ani\n",
        "    \n",
        "\n",
        "HTML(display(source_image, driving_video).to_html5_video())"
      ],
      "execution_count": null,
      "outputs": []
    },
    {
      "cell_type": "markdown",
      "metadata": {
        "id": "Pw6dYGP2673b",
        "colab_type": "text"
      },
      "source": [
        "**Create a model and load checkpoints**"
      ]
    },
    {
      "cell_type": "code",
      "metadata": {
        "id": "lrn-kQaW7Ige",
        "colab_type": "code",
        "colab": {}
      },
      "source": [
        "from demo import load_checkpoints\n",
        "generator, kp_detector = load_checkpoints(config_path='config/vox-256.yaml', \n",
        "                            checkpoint_path='/content/gdrive/My Drive/first-order-motion-model/vox-cpk.pth.tar')"
      ],
      "execution_count": null,
      "outputs": []
    },
    {
      "cell_type": "markdown",
      "metadata": {
        "id": "5E3-lVXS7QP1",
        "colab_type": "text"
      },
      "source": [
        "**Perform image animation**"
      ]
    },
    {
      "cell_type": "code",
      "metadata": {
        "id": "5rYFLgeO7VoX",
        "colab_type": "code",
        "colab": {}
      },
      "source": [
        "from demo import make_animation\n",
        "from skimage import img_as_ubyte\n",
        "\n",
        "predictions = make_animation(source_image, driving_video, generator, kp_detector, relative=True)\n",
        "\n",
        "#save resulting video\n",
        "imageio.mimsave('/content/gdrive/My Drive/first-order-motion-model/{}'.format(OUTPUT), [img_as_ubyte(frame) for frame in predictions])\n",
        "#video can be downloaded from drive folder\n",
        "\n",
        "HTML(display(source_image, driving_video, predictions).to_html5_video())"
      ],
      "execution_count": null,
      "outputs": []
    }
  ]
}